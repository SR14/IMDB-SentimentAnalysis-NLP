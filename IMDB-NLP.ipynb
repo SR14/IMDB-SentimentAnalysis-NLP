{
 "cells": [
  {
   "cell_type": "markdown",
   "metadata": {
    "colab_type": "text",
    "id": "ATg4qcJFdq0J"
   },
   "source": [
    "# IMDB Review Sentiment Prediction"
   ]
  },
  {
   "cell_type": "markdown",
   "metadata": {
    "colab_type": "text",
    "id": "_JH-x8Sydq0L"
   },
   "source": [
    "This project consists of a total of 50,000 movie reviews labeled either positive or negative. The steps leading up to the training of the model include: data importation, pre-processing, exploration and visualization. Finally, I will define and train a Keras deep learning model architecture on 25,000 training documents. The DL model will attempt to predict whether a movie review is positive or negative from the text found in the review. The deep learning model created will be tested on the other unseen 25,000 labeled movie reviews, and we will record its performance. Data used in this project can be found [here](https://ai.stanford.edu/~amaas/data/sentiment/), courtesy of Stanford University."
   ]
  },
  {
   "cell_type": "markdown",
   "metadata": {},
   "source": [
    "# 1. Load Data"
   ]
  },
  {
   "cell_type": "code",
   "execution_count": 1,
   "metadata": {
    "colab": {},
    "colab_type": "code",
    "id": "Hc1NOj-Mdq0L"
   },
   "outputs": [
    {
     "name": "stderr",
     "output_type": "stream",
     "text": [
      "Using TensorFlow backend.\n"
     ]
    }
   ],
   "source": [
    "# import necessary libraries\n",
    "import operator\n",
    "import collections as coll\n",
    "from nltk.corpus import stopwords\n",
    "import pandas as pd\n",
    "import numpy as np\n",
    "import seaborn as sns\n",
    "import matplotlib.pyplot as plt\n",
    "import statistics as stat\n",
    "import math\n",
    "import os\n",
    "import re\n",
    "from keras.preprocessing.text import Tokenizer, one_hot\n",
    "from keras.preprocessing.sequence import pad_sequences"
   ]
  },
  {
   "cell_type": "code",
   "execution_count": null,
   "metadata": {
    "colab": {},
    "colab_type": "code",
    "id": "JyzVkQA8dq0R"
   },
   "outputs": [],
   "source": [
    "# define function to retrive all data\n",
    "def get_reviews(data_path):\n",
    "    # initialize empty train/test reviews (text) and labels (positive/negative)\n",
    "    train_reviews = []\n",
    "    test_reviews = []\n",
    "    train_labels = []\n",
    "    test_labels = []\n",
    "    # loop both train/test folders\n",
    "    for dataset in ['train', 'test']:\n",
    "        # loop over positive and negative review folders\n",
    "        for feedback in ['pos', 'neg']:\n",
    "            # create path for folder currently in\n",
    "            reviews_folder = os.path.join(data_path, dataset, feedback)\n",
    "            # loop over each review one at a time\n",
    "            for review_file_name in sorted(os.listdir(reviews_folder)):\n",
    "                # import only text files containing corresponding review text\n",
    "                if review_file_name.endswith('.txt'):\n",
    "                    # create path to review file and open as review\n",
    "                    with open(os.path.join(reviews_folder, review_file_name)) as review:\n",
    "                        # append train review text and labels\n",
    "                        if dataset == 'train':\n",
    "                            # read into appropriate folder\n",
    "                            train_reviews.append(review.read())\n",
    "                            # append training labels positive, 1, negative, 0. \n",
    "                            if feedback == 'pos':\n",
    "                                train_labels.append(1)\n",
    "                            else:\n",
    "                                train_labels.append(0)  \n",
    "                        # append test set reviews and labels \n",
    "                        else:\n",
    "                            test_reviews.append(review.read())\n",
    "                            if feedback == 'pos':\n",
    "                                test_labels.append(1)  \n",
    "                            else:\n",
    "                                test_labels.append(0)\n",
    "                            \n",
    "                        \n",
    "                        \n",
    "    # turn lists into numpy arrays due to large sized data\n",
    "    # arrays more compact and efficient at handlind large amt of data\n",
    "    train_reviews = np.array(train_reviews)\n",
    "    test_revies = np.array(test_reviews)\n",
    "    train_labels = np.array(train_labels)\n",
    "    test_labels = np.array(test_labels)\n",
    "    \n",
    "    return train_reviews, test_reviews, train_labels, test_labels"
   ]
  },
  {
   "cell_type": "code",
   "execution_count": null,
   "metadata": {
    "colab": {},
    "colab_type": "code",
    "id": "KL52dkKkdq0T"
   },
   "outputs": [],
   "source": [
    "data_path = os.path.expanduser('~/Desktop/IMDB_Reviews/data')\n",
    "# import data\n",
    "train, test, train_label, test_label = get_reviews(data_path)\n",
    "\n",
    "# save data for faster load\n",
    "np.save('data/np_data/train', train)\n",
    "np.save('data/np_data/train_label', train_label)\n",
    "np.save('data/np_data/test', test)\n",
    "np.save('data/np_data/test_label', test_label)"
   ]
  },
  {
   "cell_type": "code",
   "execution_count": 2,
   "metadata": {
    "colab": {},
    "colab_type": "code",
    "id": "uQd8UN9ldq0W"
   },
   "outputs": [],
   "source": [
    "# import data using saved files\n",
    "# training data\n",
    "train = np.load('data/np_data/train.npy')\n",
    "train_label = np.load('data/np_data/train_label.npy')\n",
    "# testing data\n",
    "test = np.load('data/np_data/test.npy')\n",
    "test_label = np.load('data/np_data/test_label.npy')"
   ]
  },
  {
   "cell_type": "code",
   "execution_count": 3,
   "metadata": {
    "colab": {},
    "colab_type": "code",
    "id": "xXhETLEwdq0Y"
   },
   "outputs": [
    {
     "name": "stdout",
     "output_type": "stream",
     "text": [
      "Train Set Length:\t 25000\n",
      "Test Set Length:\t 25000\n",
      "Train Label Length:\t 25000\n",
      "Test Label Length:\t 25000\n"
     ]
    }
   ],
   "source": [
    "# check lengths of train and test set\n",
    "print('Train Set Length:\\t', len(train))\n",
    "print('Test Set Length:\\t', len(test))\n",
    "print('Train Label Length:\\t', len(train_label))\n",
    "print('Test Label Length:\\t', len(test_label))"
   ]
  },
  {
   "cell_type": "code",
   "execution_count": 4,
   "metadata": {
    "colab": {},
    "colab_type": "code",
    "id": "WgBR6kXJdq0a"
   },
   "outputs": [
    {
     "name": "stdout",
     "output_type": "stream",
     "text": [
      "Possible Train Labels:\t [0 1]\n",
      "Possible Test Labels:\t [0 1]\n"
     ]
    }
   ],
   "source": [
    "# check train and test label possible values\n",
    "print('Possible Train Labels:\\t', np.unique(train_label))\n",
    "print('Possible Test Labels:\\t', np.unique(test_label))"
   ]
  },
  {
   "cell_type": "code",
   "execution_count": 5,
   "metadata": {
    "colab": {},
    "colab_type": "code",
    "id": "XXjdSbLKdq0d"
   },
   "outputs": [
    {
     "name": "stdout",
     "output_type": "stream",
     "text": [
      "Training Unique Words:\t 280617\n",
      "Testing Unique Words:\t 276678\n"
     ]
    }
   ],
   "source": [
    "# how many unique words in sets\n",
    "print('Training Unique Words:\\t', len(np.unique(' '.join(train).split())))\n",
    "print('Testing Unique Words:\\t', len(np.unique(' '.join(test).split())))"
   ]
  },
  {
   "cell_type": "code",
   "execution_count": 6,
   "metadata": {
    "colab": {},
    "colab_type": "code",
    "id": "PyjZVb9Ndq0f"
   },
   "outputs": [
    {
     "name": "stdout",
     "output_type": "stream",
     "text": [
      "Average # Words in Training:\t 233\n",
      "Average # Words in Testing:\t 228\n"
     ]
    }
   ],
   "source": [
    "# average number of words per review\n",
    "train_words = []\n",
    "test_words = []\n",
    "for review in train:\n",
    "    train_words.append(len(review.split()))\n",
    "for review in test:\n",
    "    test_words.append(len(review.split()))\n",
    "print('Average # Words in Training:\\t', math.trunc(stat.mean(train_words)))\n",
    "print('Average # Words in Testing:\\t', math.trunc(stat.mean(test_words)))"
   ]
  },
  {
   "cell_type": "markdown",
   "metadata": {
    "colab_type": "text",
    "id": "YB41hr2sdq0j"
   },
   "source": [
    "# 2. Preprocess Data"
   ]
  },
  {
   "cell_type": "markdown",
   "metadata": {
    "colab_type": "text",
    "id": "5wJpqIvpdq0l"
   },
   "source": [
    "### *1. Remove Regular Expressions*"
   ]
  },
  {
   "cell_type": "code",
   "execution_count": 7,
   "metadata": {
    "colab": {},
    "colab_type": "code",
    "id": "1PKnrLFGdq0m"
   },
   "outputs": [
    {
     "name": "stdout",
     "output_type": "stream",
     "text": [
      "Example Review Before Regular Expressions Performed:\n",
      "\n",
      " Homelessness (or Houselessness as George Carlin stated) has been an issue for years but never a plan to help those on the street that were once considered human who did everything from going to school, work, or vote for the matter. Most people think of the homeless as just a lost cause while worrying about things such as racism, the war on Iraq, pressuring kids to succeed, technology, the elections, inflation, or worrying if they'll be next to end up on the streets.<br /><br />But what if you were given a bet to live on the streets for a month without the luxuries you once had from a home, the entertainment sets, a bathroom, pictures on the wall, a computer, and everything you once treasure to see what it's like to be homeless? That is Goddard Bolt's lesson.<br /><br />Mel Brooks (who directs) who stars as Bolt plays a rich man who has everything in the world until deciding to make a bet with a sissy rival (Jeffery Tambor) to see if he can live in the streets for thirty days without the luxuries; if Bolt succeeds, he can do what he wants with a future project of making more buildings. The bet's on where Bolt is thrown on the street with a bracelet on his leg to monitor his every move where he can't step off the sidewalk. He's given the nickname Pepto by a vagrant after it's written on his forehead where Bolt meets other characters including a woman by the name of Molly (Lesley Ann Warren) an ex-dancer who got divorce before losing her home, and her pals Sailor (Howard Morris) and Fumes (Teddy Wilson) who are already used to the streets. They're survivors. Bolt isn't. He's not used to reaching mutual agreements like he once did when being rich where it's fight or flight, kill or be killed.<br /><br />While the love connection between Molly and Bolt wasn't necessary to plot, I found \"Life Stinks\" to be one of Mel Brooks' observant films where prior to being a comedy, it shows a tender side compared to his slapstick work such as Blazing Saddles, Young Frankenstein, or Spaceballs for the matter, to show what it's like having something valuable before losing it the next day or on the other hand making a stupid bet like all rich people do when they don't know what to do with their money. Maybe they should give it to the homeless instead of using it like Monopoly money.<br /><br />Or maybe this film will inspire you to help others.\n"
     ]
    }
   ],
   "source": [
    "print('Example Review Before Regular Expressions Performed:\\n\\n', train[1])"
   ]
  },
  {
   "cell_type": "code",
   "execution_count": 8,
   "metadata": {
    "colab": {},
    "colab_type": "code",
    "id": "_RYxtvj1dq0q"
   },
   "outputs": [],
   "source": [
    "# define regular expressions function to remove zero-information punctuation, capitalization and other\n",
    "def remove_punctuation_and_other(reviews):\n",
    "    # remove punctuation and capitalization\n",
    "    reviews = [re.compile(\"[.;:!\\'?,\\\"()\\[\\]]\").sub('', review.lower()) for review in reviews]\n",
    "    # remove other zero-info values\n",
    "    remove_other = [re.compile(\"(<br\\s*/><br\\s*/>)|(\\-)|(\\/)\").sub(' ', review) for review in reviews]\n",
    "    # return processed reviews (remove_other)\n",
    "    return remove_other"
   ]
  },
  {
   "cell_type": "code",
   "execution_count": 9,
   "metadata": {
    "colab": {},
    "colab_type": "code",
    "id": "aeDZhTnndq0u"
   },
   "outputs": [],
   "source": [
    "# apply regex function to reviews\n",
    "train_re = remove_punctuation_and_other(train)\n",
    "test_re = remove_punctuation_and_other(test)"
   ]
  },
  {
   "cell_type": "code",
   "execution_count": 10,
   "metadata": {
    "colab": {},
    "colab_type": "code",
    "id": "A4lm0YAsdq0x"
   },
   "outputs": [
    {
     "name": "stdout",
     "output_type": "stream",
     "text": [
      "Same Review After Regular Expressions Function Applied:\n",
      "\n",
      " homelessness or houselessness as george carlin stated has been an issue for years but never a plan to help those on the street that were once considered human who did everything from going to school work or vote for the matter most people think of the homeless as just a lost cause while worrying about things such as racism the war on iraq pressuring kids to succeed technology the elections inflation or worrying if theyll be next to end up on the streets but what if you were given a bet to live on the streets for a month without the luxuries you once had from a home the entertainment sets a bathroom pictures on the wall a computer and everything you once treasure to see what its like to be homeless that is goddard bolts lesson mel brooks who directs who stars as bolt plays a rich man who has everything in the world until deciding to make a bet with a sissy rival jeffery tambor to see if he can live in the streets for thirty days without the luxuries if bolt succeeds he can do what he wants with a future project of making more buildings the bets on where bolt is thrown on the street with a bracelet on his leg to monitor his every move where he cant step off the sidewalk hes given the nickname pepto by a vagrant after its written on his forehead where bolt meets other characters including a woman by the name of molly lesley ann warren an ex dancer who got divorce before losing her home and her pals sailor howard morris and fumes teddy wilson who are already used to the streets theyre survivors bolt isnt hes not used to reaching mutual agreements like he once did when being rich where its fight or flight kill or be killed while the love connection between molly and bolt wasnt necessary to plot i found life stinks to be one of mel brooks observant films where prior to being a comedy it shows a tender side compared to his slapstick work such as blazing saddles young frankenstein or spaceballs for the matter to show what its like having something valuable before losing it the next day or on the other hand making a stupid bet like all rich people do when they dont know what to do with their money maybe they should give it to the homeless instead of using it like monopoly money or maybe this film will inspire you to help others\n"
     ]
    }
   ],
   "source": [
    "# display same review after removal of punctuation, capitalization and other\n",
    "print('Same Review After Regular Expressions Function Applied:\\n\\n', train_re[1])"
   ]
  },
  {
   "cell_type": "markdown",
   "metadata": {
    "colab_type": "text",
    "id": "KRxBTJ7Cdq00"
   },
   "source": [
    "### *2. Remove Stop Words*"
   ]
  },
  {
   "cell_type": "code",
   "execution_count": 11,
   "metadata": {
    "colab": {},
    "colab_type": "code",
    "id": "s8VadJTJdq00"
   },
   "outputs": [],
   "source": [
    "# define remove stop words (ex: the, i, it...) function\n",
    "stop_words = set(stopwords.words('english'))\n",
    "def one_review(review):\n",
    "    review = [word for word in review.split() if word not in stop_words] \n",
    "    review = ' '.join(review)\n",
    "    return review\n",
    "def remove_stop(reviews):\n",
    "    reviews = [one_review(review) for review in reviews]\n",
    "    return reviews"
   ]
  },
  {
   "cell_type": "code",
   "execution_count": 12,
   "metadata": {
    "colab": {},
    "colab_type": "code",
    "id": "tObvB-fPdq03"
   },
   "outputs": [],
   "source": [
    "# apply remove stop words function\n",
    "train_stop = remove_stop(train_re)\n",
    "test_stop = remove_stop(test_re)"
   ]
  },
  {
   "cell_type": "code",
   "execution_count": 13,
   "metadata": {
    "colab": {},
    "colab_type": "code",
    "id": "KQESOdrddq05"
   },
   "outputs": [
    {
     "name": "stdout",
     "output_type": "stream",
     "text": [
      "Same review after removal of stop words:\n",
      "\n",
      " homelessness houselessness george carlin stated issue years never plan help street considered human everything going school work vote matter people think homeless lost cause worrying things racism war iraq pressuring kids succeed technology elections inflation worrying theyll next end streets given bet live streets month without luxuries home entertainment sets bathroom pictures wall computer everything treasure see like homeless goddard bolts lesson mel brooks directs stars bolt plays rich man everything world deciding make bet sissy rival jeffery tambor see live streets thirty days without luxuries bolt succeeds wants future project making buildings bets bolt thrown street bracelet leg monitor every move cant step sidewalk hes given nickname pepto vagrant written forehead bolt meets characters including woman name molly lesley ann warren ex dancer got divorce losing home pals sailor howard morris fumes teddy wilson already used streets theyre survivors bolt isnt hes used reaching mutual agreements like rich fight flight kill killed love connection molly bolt wasnt necessary plot found life stinks one mel brooks observant films prior comedy shows tender side compared slapstick work blazing saddles young frankenstein spaceballs matter show like something valuable losing next day hand making stupid bet like rich people dont know money maybe give homeless instead using like monopoly money maybe film inspire help others\n"
     ]
    }
   ],
   "source": [
    "print('Same review after removal of stop words:\\n\\n', train_stop[1])"
   ]
  },
  {
   "cell_type": "markdown",
   "metadata": {
    "colab_type": "text",
    "id": "qtEorazgdq08"
   },
   "source": [
    "### *3. Remove Uncommon Words*"
   ]
  },
  {
   "cell_type": "code",
   "execution_count": 14,
   "metadata": {
    "colab": {},
    "colab_type": "code",
    "id": "eZFSqe27dq09"
   },
   "outputs": [],
   "source": [
    "# initialize tokenizer and train on training set\n",
    "# allow for one hot encoding\n",
    "t = Tokenizer()\n",
    "t.fit_on_texts(train_stop)"
   ]
  },
  {
   "cell_type": "code",
   "execution_count": 15,
   "metadata": {
    "colab": {},
    "colab_type": "code",
    "id": "8Jj650Z-dq0_"
   },
   "outputs": [
    {
     "name": "stdout",
     "output_type": "stream",
     "text": [
      "Top Ten Used Words Before Uncommon Word Removal:\n"
     ]
    },
    {
     "data": {
      "text/plain": [
       "[('movie', 43251),\n",
       " ('film', 38921),\n",
       " ('one', 26399),\n",
       " ('like', 20182),\n",
       " ('good', 15031),\n",
       " ('time', 12615),\n",
       " ('even', 12570),\n",
       " ('would', 12229),\n",
       " ('story', 11879),\n",
       " ('really', 11706)]"
      ]
     },
     "execution_count": 15,
     "metadata": {},
     "output_type": "execute_result"
    }
   ],
   "source": [
    "print('Top Ten Used Words Before Uncommon Word Removal:')\n",
    "sorted(t.word_counts.items(), key=operator.itemgetter(1), reverse=True)[:10]"
   ]
  },
  {
   "cell_type": "code",
   "execution_count": 16,
   "metadata": {
    "colab": {},
    "colab_type": "code",
    "id": "MXZNG9DDdq1C"
   },
   "outputs": [],
   "source": [
    "# create a list of words that appear less than 100 times in 25,000 training reviews\n",
    "less_than100 = []\n",
    "for word, counts in t.word_counts.items():\n",
    "    if counts < 100:\n",
    "        less_than100.append(word)\n",
    "# also add to less_than100 'movie' and 'film' since they are\n",
    "# top 2 most frequent words, but add no sentiment value\n",
    "less_than100.extend(('movie', 'film'))\n",
    "# create set from list for faster membership test of words\n",
    "less_than100 = set(less_than100)"
   ]
  },
  {
   "cell_type": "code",
   "execution_count": 17,
   "metadata": {
    "colab": {},
    "colab_type": "code",
    "id": "4pNSTc9adq1G"
   },
   "outputs": [],
   "source": [
    "# define function that will remove less_than100 words from training data\n",
    "def uncommon_one(review):\n",
    "    review = [word for word in review.split() if word not in less_than100] \n",
    "    review = ' '.join(review)\n",
    "    return review\n",
    "def remove_uncommon(reviews):\n",
    "    reviews = [uncommon_one(review) for review in reviews]\n",
    "    return reviews"
   ]
  },
  {
   "cell_type": "code",
   "execution_count": 18,
   "metadata": {
    "colab": {},
    "colab_type": "code",
    "id": "u-mqfW0Ydq1M"
   },
   "outputs": [],
   "source": [
    "# apply remove_uncommon function to training data\n",
    "train_clean = remove_uncommon(train_stop)\n",
    "test_clean = remove_uncommon(test_stop)"
   ]
  },
  {
   "cell_type": "code",
   "execution_count": 19,
   "metadata": {
    "colab": {},
    "colab_type": "code",
    "id": "DBXOK8Avdq1Q"
   },
   "outputs": [
    {
     "name": "stdout",
     "output_type": "stream",
     "text": [
      "Same Review After Uncommon Word Removal:\n",
      "\n",
      " george stated issue years never plan help street considered human everything going school work vote matter people think homeless lost cause things racism war kids succeed technology theyll next end streets given bet live streets month without home entertainment sets bathroom pictures wall computer everything treasure see like homeless lesson mel brooks directs stars plays rich man everything world make bet rival see live streets thirty days without succeeds wants future project making thrown street leg every move cant step hes given written meets characters including woman name ann warren ex dancer got divorce losing home howard wilson already used streets theyre survivors isnt hes used like rich fight flight kill killed love connection wasnt necessary plot found life one mel brooks films prior comedy shows tender side compared slapstick work young matter show like something losing next day hand making stupid bet like rich people dont know money maybe give homeless instead using like money maybe help others\n"
     ]
    }
   ],
   "source": [
    "print('Same Review After Uncommon Word Removal:\\n\\n', train_clean[1])"
   ]
  },
  {
   "cell_type": "code",
   "execution_count": 20,
   "metadata": {
    "colab": {},
    "colab_type": "code",
    "id": "A3xHtOAadq1T"
   },
   "outputs": [
    {
     "name": "stdout",
     "output_type": "stream",
     "text": [
      "Unique Words Before Uncommon Words Removed:  95350\n",
      "Unique Words After Uncommon Words Removed:   6690\n"
     ]
    }
   ],
   "source": [
    "print('Unique Words Before Uncommon Words Removed: ', len(np.unique(' '.join(train_stop).split())))\n",
    "print('Unique Words After Uncommon Words Removed:  ', len(np.unique(' '.join(train_clean).split())))"
   ]
  },
  {
   "cell_type": "markdown",
   "metadata": {
    "colab_type": "text",
    "id": "7ipgyEXUdq1V"
   },
   "source": [
    "### 4. *One-Hot Encoding & Sequence Padding*"
   ]
  },
  {
   "cell_type": "code",
   "execution_count": 21,
   "metadata": {
    "colab": {},
    "colab_type": "code",
    "id": "kKo0Rn5qdq1V"
   },
   "outputs": [],
   "source": [
    "# one hot encode train and test data in order to be able to input into deep learning model\n",
    "# each word replaced by integer representing word index\n",
    "encode = Tokenizer()\n",
    "encode.fit_on_texts(np.concatenate((train_clean, test_clean)))\n",
    "vocab_size = len(encode.word_index) + 1\n",
    "encoded_train = encode.texts_to_sequences(train_clean)\n",
    "encoded_test = encode.texts_to_sequences(test_clean)"
   ]
  },
  {
   "cell_type": "markdown",
   "metadata": {
    "colab_type": "text",
    "id": "W0U_bDf_dq1X"
   },
   "source": [
    "# 3. Data Exploration and Visualization"
   ]
  },
  {
   "cell_type": "markdown",
   "metadata": {
    "colab_type": "text",
    "id": "_BVJMci9dq1Y"
   },
   "source": [
    "### *All Data*"
   ]
  },
  {
   "cell_type": "markdown",
   "metadata": {
    "colab_type": "text",
    "id": "my0zTVwmdq1Y"
   },
   "source": [
    "#### *1. Review Lengths (after preprocessing steps)*"
   ]
  },
  {
   "cell_type": "code",
   "execution_count": 22,
   "metadata": {
    "colab": {},
    "colab_type": "code",
    "id": "zpP7DRtEdq1Z"
   },
   "outputs": [
    {
     "name": "stdout",
     "output_type": "stream",
     "text": [
      "Longest Reviews:\t [880, 727, 701, 689, 598, 587, 584, 577, 560, 560, 559, 553, 521, 500] \n",
      "\n",
      "Average Review Length:\t 94.19736 \n",
      "\n",
      "Median Review Length:\t 71.0 \n",
      "\n"
     ]
    },
    {
     "data": {
      "image/png": "[encoded data removed]",
      "text/plain": [
       "<Figure size 432x288 with 1 Axes>"
      ]
     },
     "metadata": {
      "needs_background": "light"
     },
     "output_type": "display_data"
    }
   ],
   "source": [
    "# check max review length\n",
    "review_lengths = []\n",
    "for review in encoded_train:\n",
    "    review_lengths.append(len(review))\n",
    "print('Longest Reviews:\\t', sorted(review_lengths, reverse=True)[:14], '\\n')\n",
    "print('Average Review Length:\\t', stat.mean(review_lengths), '\\n')\n",
    "print('Median Review Length:\\t', stat.median(review_lengths), '\\n')\n",
    "\n",
    "# review length after preprocessing\n",
    "ax = sns.distplot(review_lengths, bins=8, kde=False)\n",
    "ax.set(xlabel='Review Length', ylabel='# of Reviews', title='Number of Words per Review')\n",
    "plt.show()"
   ]
  },
  {
   "cell_type": "markdown",
   "metadata": {
    "colab_type": "text",
    "id": "xRILkA3wdq1b"
   },
   "source": [
    "From the plot above, we can see that the majority of reviews are below 100 words in length."
   ]
  },
  {
   "cell_type": "markdown",
   "metadata": {
    "colab_type": "text",
    "id": "LEwAIt4Ldq1b"
   },
   "source": [
    "#### *2. Most Frequently Used Words*\n",
    "Words will be counted for every time it is used in a given review; for example, if a word is used 5 times in a given review, all 5 instances will be counted."
   ]
  },
  {
   "cell_type": "code",
   "execution_count": 23,
   "metadata": {
    "colab": {},
    "colab_type": "code",
    "id": "U9vl1I42dq1c"
   },
   "outputs": [],
   "source": [
    "# tokenize clean dataset\n",
    "# allows for quick word counts\n",
    "freq = Tokenizer()\n",
    "freq.fit_on_texts(train_clean)"
   ]
  },
  {
   "cell_type": "code",
   "execution_count": 24,
   "metadata": {
    "colab": {},
    "colab_type": "code",
    "id": "BbPnsg59dq1e"
   },
   "outputs": [
    {
     "name": "stdout",
     "output_type": "stream",
     "text": [
      "Most Frequently Used Words:\n",
      "('one', 26399)\n",
      "('like', 20182)\n",
      "('good', 15031)\n",
      "('time', 12615)\n",
      "('even', 12570)\n",
      "('would', 12229)\n",
      "('story', 11879)\n",
      "('really', 11706)\n",
      "('see', 11431)\n",
      "('well', 10529)\n"
     ]
    },
    {
     "data": {
      "image/png": "[encoded data removed]",
      "text/plain": [
       "<Figure size 432x288 with 1 Axes>"
      ]
     },
     "metadata": {
      "needs_background": "light"
     },
     "output_type": "display_data"
    }
   ],
   "source": [
    "# top 10 words used\n",
    "word_counts = sorted(freq.word_counts.items(), key=operator.itemgetter(1), reverse=True)[:10]\n",
    "print('Most Frequently Used Words:')\n",
    "for i in range(10):\n",
    "    print(word_counts[i])\n",
    "    \n",
    "# top 10 word counts bar chart\n",
    "words_plt = []\n",
    "counts_plt = []\n",
    "for word, count in word_counts:\n",
    "    words_plt.append(word)\n",
    "    counts_plt.append(count)\n",
    "count_bar = sns.barplot(words_plt, counts_plt)\n",
    "count_bar.set_title('Most Used Words')\n",
    "count_bar.set(xlabel = 'Words', ylabel = 'Count')\n",
    "count_bar.set_xticklabels(count_bar.get_xticklabels(), rotation=40, ha=\"right\")\n",
    "plt.tight_layout()\n",
    "plt.show()"
   ]
  },
  {
   "cell_type": "markdown",
   "metadata": {
    "colab_type": "text",
    "id": "NpnGxNwMdq1g"
   },
   "source": [
    "#### *3. Most Frequently Used Words per Review*\n",
    "Words will be counted only once per review; for example, if a word is used 5 times in a given review, only 1 instance will be counted. This will allow for us to see if the most frequenly used words appear in many reviews, or if some words are used repeatedly in reviews."
   ]
  },
  {
   "cell_type": "code",
   "execution_count": 25,
   "metadata": {
    "colab": {},
    "colab_type": "code",
    "id": "jQmfgTEndq1h"
   },
   "outputs": [
    {
     "name": "stdout",
     "output_type": "stream",
     "text": [
      "Most Frequently Used Words:\n",
      "('one', 14061)\n",
      "('like', 11640)\n",
      "('good', 9600)\n",
      "('time', 8677)\n",
      "('even', 8374)\n",
      "('see', 8069)\n",
      "('would', 8039)\n",
      "('really', 7618)\n",
      "('story', 7575)\n",
      "('well', 7443)\n"
     ]
    },
    {
     "data": {
      "image/png": "[encoded data removed]",
      "text/plain": [
       "<Figure size 432x288 with 1 Axes>"
      ]
     },
     "metadata": {
      "needs_background": "light"
     },
     "output_type": "display_data"
    }
   ],
   "source": [
    "# most used words counting only one instance per review\n",
    "word_docs_counts = sorted(freq.word_docs.items(), key=operator.itemgetter(1), reverse=True)[:10]\n",
    "print('Most Frequently Used Words:')\n",
    "for i in range(10):\n",
    "    print(word_docs_counts[i])\n",
    "    \n",
    "# top 10 word counts bar chart\n",
    "words_docs_plt = []\n",
    "counts_docs_plt = []\n",
    "for word, count in word_docs_counts:\n",
    "    words_docs_plt.append(word)\n",
    "    counts_docs_plt.append(count)\n",
    "count_docs_bar = sns.barplot(words_docs_plt, counts_docs_plt)\n",
    "count_docs_bar.set_title('Most Used Words (One Count per Review)')\n",
    "count_docs_bar.set(xlabel = 'Words', ylabel = '# of Review Appearances')\n",
    "count_docs_bar.set_xticklabels(count_docs_bar.get_xticklabels(), rotation=40, ha=\"right\")\n",
    "plt.tight_layout()\n",
    "plt.show()"
   ]
  },
  {
   "cell_type": "markdown",
   "metadata": {
    "colab_type": "text",
    "id": "FaHdWbFDdq1p"
   },
   "source": [
    "From comparing the above two methods of counting words in the training dataset we can see that the most used words in both are the same, but the order of some words change. Also, it can be noted that the most used words do add sentiment value, but more context is needed for the deep learning model to classify correctly. For example, the word \"really\" is the eight most used word in the training dataset, but that does not give info as to how it was used in the review. The word \"really\" could have been used in a review either as \"i really like this movie\" or as \"this movie really sucks\"; both reviews use the word \"really\" but contain a completely oppositive sentiment towards the movie being reviewed. In order to account for this, we will use Kera's embedding layer, which takes into account the position of words relative to one another, or in other words the context of the words being used."
   ]
  },
  {
   "cell_type": "markdown",
   "metadata": {
    "colab_type": "text",
    "id": "3nUQrrWTdq1q"
   },
   "source": [
    "### *Positive vs. Negative Reviews*"
   ]
  },
  {
   "cell_type": "code",
   "execution_count": 26,
   "metadata": {
    "colab": {},
    "colab_type": "code",
    "id": "7LHHXgiXdq1s"
   },
   "outputs": [],
   "source": [
    "# separate training data into negative/positive label\n",
    "negative_reviews = []\n",
    "positive_reviews = []\n",
    "# review lengths\n",
    "pos_len = []\n",
    "neg_len = []\n",
    "\n",
    "for review, label in zip(train_clean, train_label):\n",
    "    if label == 0:\n",
    "        negative_reviews.append(review)\n",
    "        neg_len.append(len(review.split()))\n",
    "    else:\n",
    "        positive_reviews.append(review)\n",
    "        pos_len.append(len(review.split()))"
   ]
  },
  {
   "cell_type": "code",
   "execution_count": 27,
   "metadata": {
    "colab": {},
    "colab_type": "code",
    "id": "-nR4cxFldq1u"
   },
   "outputs": [
    {
     "name": "stdout",
     "output_type": "stream",
     "text": [
      "Number of Positive Reviews:  12500\n",
      "Number of Negative Reviews:  12500\n"
     ]
    }
   ],
   "source": [
    "print('Number of Positive Reviews: ', len(positive_reviews))\n",
    "print('Number of Negative Reviews: ', len(negative_reviews))"
   ]
  },
  {
   "cell_type": "code",
   "execution_count": 28,
   "metadata": {
    "colab": {},
    "colab_type": "code",
    "id": "8AN-MGasdq1w"
   },
   "outputs": [
    {
     "name": "stdout",
     "output_type": "stream",
     "text": [
      "Average Positive Review Length:\t 94.79352\n",
      "Median Positive Review Length:\t 71.0 \n",
      "\n",
      "Average Negative Review Length:\t 93.892\n",
      "Median Negative Review Length:\t 72.0\n"
     ]
    }
   ],
   "source": [
    "# check positive and negative review length statistics \n",
    "\n",
    "print('Average Positive Review Length:\\t', stat.mean(pos_len))\n",
    "print('Median Positive Review Length:\\t', stat.median(pos_len), '\\n')\n",
    "\n",
    "print('Average Negative Review Length:\\t', stat.mean(neg_len) )\n",
    "print('Median Negative Review Length:\\t', stat.median(neg_len))"
   ]
  },
  {
   "cell_type": "code",
   "execution_count": 29,
   "metadata": {
    "colab": {},
    "colab_type": "code",
    "id": "a1bz8Fv4dq1z"
   },
   "outputs": [],
   "source": [
    "# create a tokenizer for positive reviews\n",
    "pos = Tokenizer()\n",
    "pos.fit_on_texts(positive_reviews)\n",
    "\n",
    "# create a tokenizer for negative reviews\n",
    "neg = Tokenizer()\n",
    "neg.fit_on_texts(negative_reviews)"
   ]
  },
  {
   "cell_type": "code",
   "execution_count": 30,
   "metadata": {
    "colab": {},
    "colab_type": "code",
    "id": "5CngLaGHdq13"
   },
   "outputs": [],
   "source": [
    "# sort positive reviews' word counts from most to least frequent\n",
    "pos_sorted = sorted(pos.word_counts.items(), key=operator.itemgetter(1), reverse=True)\n",
    "# create a set of positive words\n",
    "positive_words = set([word for word, counts in pos_sorted])\n",
    "\n",
    "# sort negative reviews' word counts from most to least frequent\n",
    "neg_sorted = sorted(neg.word_counts.items(), key=operator.itemgetter(1), reverse=True)\n",
    "# create a set of negative words\n",
    "negative_words = set([word for word, counts in neg_sorted])"
   ]
  },
  {
   "cell_type": "markdown",
   "metadata": {
    "colab_type": "text",
    "id": "4j0UTWfSdq15"
   },
   "source": [
    "#### *1. Word Counts*\n",
    "Below we will explore the most used words in positive and negative reviews. "
   ]
  },
  {
   "cell_type": "code",
   "execution_count": 31,
   "metadata": {
    "colab": {},
    "colab_type": "code",
    "id": "Ss3Lue-adq16"
   },
   "outputs": [
    {
     "name": "stdout",
     "output_type": "stream",
     "text": [
      "Most Frequently Used Words in Positive Reviews:\n",
      "\n",
      "('one', 13431)\n",
      "('like', 8987)\n",
      "('good', 7660)\n",
      "('story', 6712)\n",
      "('time', 6455)\n",
      "('great', 6366)\n",
      "('well', 6335)\n",
      "('see', 6006)\n",
      "('also', 5521)\n",
      "('really', 5466)\n"
     ]
    },
    {
     "data": {
      "image/png": "[encoded data removed]",
      "text/plain": [
       "<Figure size 432x288 with 1 Axes>"
      ]
     },
     "metadata": {
      "needs_background": "light"
     },
     "output_type": "display_data"
    }
   ],
   "source": [
    "print('Most Frequently Used Words in Positive Reviews:\\n')\n",
    "for i in range(10):\n",
    "    print(pos_sorted[i])\n",
    "    \n",
    "# plot top 10 word counts bar chart\n",
    "pos_words = []\n",
    "pos_counts = []\n",
    "for word, count in pos_sorted[:10]:\n",
    "    pos_words.append(word)\n",
    "    pos_counts.append(count)\n",
    "pos_wc = sns.barplot(pos_words, pos_counts)\n",
    "pos_wc.set_title('Top 10 Positive Review Word Counts')\n",
    "pos_wc.set(xlabel = 'Words', ylabel = 'Word Count')\n",
    "pos_wc.set_xticklabels(pos_wc.get_xticklabels(), rotation=40, ha=\"right\")\n",
    "plt.tight_layout()\n",
    "plt.show()"
   ]
  },
  {
   "cell_type": "code",
   "execution_count": 32,
   "metadata": {
    "colab": {},
    "colab_type": "code",
    "id": "dSVeiYzEdq19"
   },
   "outputs": [
    {
     "name": "stdout",
     "output_type": "stream",
     "text": [
      "Most Frequently Used Words in Negative Reviews:\n",
      "\n",
      "('one', 12968)\n",
      "('like', 11195)\n",
      "('even', 7641)\n",
      "('good', 7371)\n",
      "('bad', 7338)\n",
      "('would', 6898)\n",
      "('really', 6240)\n",
      "('time', 6160)\n",
      "('see', 5425)\n",
      "('story', 5167)\n"
     ]
    },
    {
     "data": {
      "image/png": "[encoded data removed]",
      "text/plain": [
       "<Figure size 432x288 with 1 Axes>"
      ]
     },
     "metadata": {
      "needs_background": "light"
     },
     "output_type": "display_data"
    }
   ],
   "source": [
    "print('Most Frequently Used Words in Negative Reviews:\\n')\n",
    "for i in range(10):\n",
    "    print(neg_sorted[i])\n",
    "    \n",
    "# plot top 10 word counts bar chart\n",
    "neg_words = []\n",
    "neg_counts = []\n",
    "for word, count in neg_sorted[:10]:\n",
    "    neg_words.append(word)\n",
    "    neg_counts.append(count)\n",
    "neg_wc = sns.barplot(neg_words, neg_counts)\n",
    "neg_wc.set_title('Top 10 Negative Review Word Counts')\n",
    "neg_wc.set(xlabel = 'Words', ylabel = 'Word Count')\n",
    "neg_wc.set_xticklabels(neg_wc.get_xticklabels(), rotation=40, ha=\"right\")\n",
    "plt.tight_layout()\n",
    "plt.show()"
   ]
  },
  {
   "cell_type": "code",
   "execution_count": 33,
   "metadata": {
    "colab": {},
    "colab_type": "code",
    "id": "dLE6EP-gdq2B"
   },
   "outputs": [
    {
     "name": "stdout",
     "output_type": "stream",
     "text": [
      "Top Words in Positive Top 10 but not in Negative Top 10: {'well', 'also', 'great'}\n",
      "Top Words in Negative Top 10 but not in Positive Top 10: {'even', 'would', 'bad'}\n"
     ]
    }
   ],
   "source": [
    "neg_words = set(neg_words)\n",
    "pos_words = set(pos_words)\n",
    "print('Top Words in Positive Top 10 but not in Negative Top 10:', pos_words.difference(neg_words))\n",
    "print('Top Words in Negative Top 10 but not in Positive Top 10:', neg_words.difference(pos_words))"
   ]
  },
  {
   "cell_type": "markdown",
   "metadata": {
    "colab_type": "text",
    "id": "A__tPv2kdq2F"
   },
   "source": [
    "After plotting the top ten most frequent words in both positive and negative reviews, it can be seen that positive and negative reviews share most of the top ten words found in the datasets. However, it can be noted that the words they differ on, do not add much sentiment with the exception of \"great\" and \"bad\". The word \"great\" is one of positive reviews' and not one of negative reviews' top ten words; on the other hand, the word \"bad\" appears in negative reviews' top ten most common words and not in positive reviews'. Both of those make sense as \"great\" has a greater positive connotation, and the word \"bad\" has a greater negative connotation. Next we will explore the top words found only in either positive or negative reviews but not both."
   ]
  },
  {
   "cell_type": "markdown",
   "metadata": {
    "colab_type": "text",
    "id": "up6S2OW9dq2G"
   },
   "source": [
    "#### *2. Exclusive Word Document Counts*\n",
    "Below we will see what the most common words appearing exclusively in either positive or negative reviews are. Words will be counted once per review, meaning that if a word is used more than once in a review, only the first instance of the word will be counted."
   ]
  },
  {
   "cell_type": "code",
   "execution_count": 34,
   "metadata": {
    "colab": {},
    "colab_type": "code",
    "id": "_2slL7CRdq2H"
   },
   "outputs": [],
   "source": [
    "# sort positive reviews' word document counts from most to least frequent\n",
    "pos_sorted_once = sorted(pos.word_docs.items(), key=operator.itemgetter(1), reverse=True)\n",
    "# create a set of positive document words\n",
    "positive_words_once = set([word for word, counts in pos_sorted_once])\n",
    "\n",
    "# sort negative reviews' word document counts from most to least frequent\n",
    "neg_sorted_once = sorted(neg.word_docs.items(), key=operator.itemgetter(1), reverse=True)\n",
    "# create a set of negative document words\n",
    "negative_words_once = set([word for word, counts in neg_sorted_once])"
   ]
  },
  {
   "cell_type": "code",
   "execution_count": 35,
   "metadata": {
    "colab": {},
    "colab_type": "code",
    "id": "-zyPjbVRdq2K"
   },
   "outputs": [],
   "source": [
    "# document words found in positive reviews but not in negative reviews\n",
    "only_positive_once = []\n",
    "for word, count in pos_sorted_once:\n",
    "    if word in positive_words_once.difference(negative_words_once):\n",
    "        only_positive_once.append((word, count))\n",
    "# sort words by document count\n",
    "only_positive_once.sort(key=operator.itemgetter(1), reverse=True)\n",
    "\n",
    "# words found in negative reviews but not in positive reviews\n",
    "only_negative_once = []\n",
    "for word, count in neg_sorted_once:\n",
    "    if word in negative_words_once.difference(positive_words_once):\n",
    "        only_negative_once.append((word, count))\n",
    "# sort words by count\n",
    "only_negative_once.sort(key=operator.itemgetter(1), reverse=True)"
   ]
  },
  {
   "cell_type": "code",
   "execution_count": 36,
   "metadata": {
    "colab": {},
    "colab_type": "code",
    "id": "QpL7SfkQdq2R"
   },
   "outputs": [
    {
     "name": "stdout",
     "output_type": "stream",
     "text": [
      "10 Most Frequent Positive Only Words (Counted Once per Review):\n",
      "\n",
      "('edie', 40)\n",
      "('3000', 4)\n",
      "('too', 4)\n",
      "('43', 3)\n",
      "('2500', 3)\n",
      "('iamaseal2', 3)\n",
      "('hotmailcom', 3)\n",
      "('rating13', 3)\n",
      "('wonderland', 3)\n",
      "('92', 2)\n"
     ]
    },
    {
     "data": {
      "image/png": "[encoded data removed]",
      "text/plain": [
       "<Figure size 432x288 with 1 Axes>"
      ]
     },
     "metadata": {
      "needs_background": "light"
     },
     "output_type": "display_data"
    }
   ],
   "source": [
    "print('10 Most Frequent Positive Only Words (Counted Once per Review):\\n')\n",
    "for i in range(10):\n",
    "    print(only_positive_once[i])\n",
    "    \n",
    "# plot positive word document count as bar chart\n",
    "pos_words_once_plt = []\n",
    "pos_counts_once_plt = []\n",
    "for word, count in only_positive_once[:10]:\n",
    "    pos_words_once_plt.append(word)\n",
    "    pos_counts_once_plt.append(count)\n",
    "pos_once_bar = sns.barplot(pos_words_once_plt, pos_counts_once_plt)\n",
    "pos_once_bar.set_title('Top 10 Positive Only Words (Counted Once)')\n",
    "pos_once_bar.set(xlabel = 'Words', ylabel = '# of Reviews Appearances')\n",
    "pos_once_bar.set_xticklabels(pos_once_bar.get_xticklabels(), rotation=40, ha=\"right\")\n",
    "plt.tight_layout()\n",
    "plt.show()"
   ]
  },
  {
   "cell_type": "code",
   "execution_count": 37,
   "metadata": {
    "colab": {},
    "colab_type": "code",
    "id": "eXy-mfQSdq2c"
   },
   "outputs": [
    {
     "name": "stdout",
     "output_type": "stream",
     "text": [
      "10 Most Frequent Negative Only Words (Counted Once per Review):\n",
      "\n",
      "('300', 7)\n",
      "('250000', 7)\n",
      "('wasn', 5)\n",
      "('950', 5)\n",
      "('8p', 5)\n",
      "('couldn', 5)\n",
      "('gasp', 5)\n",
      "('they', 5)\n",
      "('700', 4)\n",
      "('bulls', 4)\n"
     ]
    },
    {
     "data": {
      "image/png": "[encoded data removed]",
      "text/plain": [
       "<Figure size 432x288 with 1 Axes>"
      ]
     },
     "metadata": {
      "needs_background": "light"
     },
     "output_type": "display_data"
    }
   ],
   "source": [
    "print('10 Most Frequent Negative Only Words (Counted Once per Review):\\n')\n",
    "for i in range(10):\n",
    "    print(only_negative_once[i])\n",
    "    \n",
    "# negative word document count bar chart\n",
    "neg_words_once_plt = []\n",
    "neg_counts_once_plt = []\n",
    "for word, count in only_negative_once[:10]:\n",
    "    neg_words_once_plt.append(word)\n",
    "    neg_counts_once_plt.append(count)\n",
    "neg_once_bar = sns.barplot(neg_words_once_plt, neg_counts_once_plt)\n",
    "neg_once_bar.set_title('Top 10 Negative Only Words (Counted Once)')\n",
    "neg_once_bar.set(xlabel = 'Words', ylabel = '# of Reviews Appearances')\n",
    "neg_once_bar.set_xticklabels(neg_once_bar.get_xticklabels(), rotation=40, ha=\"right\")\n",
    "plt.tight_layout()\n",
    "plt.show()"
   ]
  },
  {
   "cell_type": "markdown",
   "metadata": {
    "colab_type": "text",
    "id": "bNNWil1rdq2j"
   },
   "source": [
    "After counting the top words appearing exclusively in either positive or negative reviews, it can be noted that the top ten most common words in each type of review do not seem to add any form of sentiment to the review. This further supports our idea that we will have to use kera's embedding layer to account for the context of words, given that the most frequent unique words found only in either positive or negative reviews do not add any sentiment information to the review. Also, the word \"edie\" appears more than normal in positive reviews, we are going to look at some reviews in the next section to see how \"edie\" is being used in positive reviews."
   ]
  },
  {
   "cell_type": "markdown",
   "metadata": {
    "colab_type": "text",
    "id": "IcpX-0fGdq2n"
   },
   "source": [
    "#### *3. \"edie\"?*\n",
    "In this section we will see what edie refers to. Is edie an actor?"
   ]
  },
  {
   "cell_type": "code",
   "execution_count": 38,
   "metadata": {
    "colab": {},
    "colab_type": "code",
    "id": "bSQue8rgdq2p"
   },
   "outputs": [],
   "source": [
    "# find all reviews where edie is mentioned\n",
    "edie_reviews = []\n",
    "for review in positive_reviews:\n",
    "    if 'edie' in set(review.split()):\n",
    "        edie_reviews.append(review)"
   ]
  },
  {
   "cell_type": "code",
   "execution_count": 39,
   "metadata": {
    "colab": {},
    "colab_type": "code",
    "id": "kPmBzImFdq2v"
   },
   "outputs": [
    {
     "name": "stdout",
     "output_type": "stream",
     "text": [
      "sample review containing \"edie\":\n",
      "\n",
      " find intriguing lee jackie sister cousin women would make big edie little edie subject certainly could considered family closet extra features dvd include several contemporary fashion ideas women id say anyone interested fashion would find discussion fascinating ie missing something hard come though\n"
     ]
    }
   ],
   "source": [
    "# example edie in review\n",
    "print('sample review containing \"edie\":\\n\\n', edie_reviews[3])"
   ]
  },
  {
   "cell_type": "markdown",
   "metadata": {
    "colab_type": "text",
    "id": "VRGDibsgdq2_"
   },
   "source": [
    "It turns out that most of the reviews containing \"edie\" in the review are referring to a highly rated 1975 movie called *Grey Gardens*. The word \"edie\" will not generalize much when training the deep learning model, since it corresponds to a single movie. Therefore, it does not add much additional information if the model is tested on another movie other than *Grey Gardens*. However, I will leave it in the training set, since the same movie might appear in the any future test review, in which it could aid the classification of that particular review. "
   ]
  },
  {
   "cell_type": "markdown",
   "metadata": {
    "colab_type": "text",
    "id": "P4nXJSdPdq3A"
   },
   "source": [
    "#### *4. Polarizing Review Counts*\n",
    "Below we will explore review counts positive and negative reviews regarding highly sentimental words, or polarizing."
   ]
  },
  {
   "cell_type": "code",
   "execution_count": 40,
   "metadata": {
    "colab": {},
    "colab_type": "code",
    "id": "nJpceb72dq3B"
   },
   "outputs": [
    {
     "name": "stdout",
     "output_type": "stream",
     "text": [
      "Positive Reviews' Polar Word Counts:\n",
      "\n",
      "love : 2825\n",
      "awesome : 304\n",
      "hate : 301\n",
      "boring : 300\n",
      "exciting : 279\n",
      "horrible : 152\n",
      "\n",
      "-------------------\n",
      "\n",
      "Negative Reviews' Polar Word Counts:\n",
      "\n",
      "love : 1614\n",
      "boring : 1192\n",
      "horrible : 842\n",
      "hate : 395\n",
      "exciting : 194\n",
      "awesome : 108\n"
     ]
    },
    {
     "data": {
      "image/png": "[encoded data removed]",
      "text/plain": [
       "<Figure size 432x288 with 1 Axes>"
      ]
     },
     "metadata": {
      "needs_background": "light"
     },
     "output_type": "display_data"
    }
   ],
   "source": [
    "polar_set = set(['hate', 'love', 'awesome', 'horrible', 'boring', 'exciting'])\n",
    "polar_pos = []\n",
    "polar_neg = []\n",
    "print(\"Positive Reviews' Polar Word Counts:\\n\")\n",
    "for word, count in pos_sorted_once:\n",
    "    if word in polar_set:\n",
    "        polar_pos.append(count)\n",
    "        print(word, ':', count)\n",
    "print(\"\\n-------------------\\n\\nNegative Reviews' Polar Word Counts:\\n\")\n",
    "for word, count in neg_sorted_once:\n",
    "    if word  in polar_set:\n",
    "        polar_neg.append(count)\n",
    "        print(word, ':', count)\n",
    "        \n",
    "        # plot polarizing word counts\n",
    "N = 6\n",
    "ind = np.arange(N) \n",
    "width = 0.35       \n",
    "plt.bar(ind, polar_pos, width, label='Positive Reviews', color='limegreen')\n",
    "plt.bar(ind + width, polar_neg, width,\n",
    "    label='Negative Reviews', color='indianred')\n",
    "\n",
    "plt.xlabel('Words')\n",
    "plt.ylabel('Review Count')\n",
    "plt.title('Reviews with Polarizing Words')\n",
    "\n",
    "plt.xticks(ind + width / 2, ('love', 'boring', 'horrible', 'hate', 'exciting', 'awesome'))\n",
    "plt.legend(loc='best')\n",
    "plt.show()"
   ]
  },
  {
   "cell_type": "markdown",
   "metadata": {
    "colab_type": "text",
    "id": "59Xq954ddq3G"
   },
   "source": [
    "As it can be seen, even though words exclusively found in either positive or negative reviews don't contain any valuable sentiment, a pattern can be seen in the review counts with words rich in sentiment connotation. Words with positive connotations have way higher review appearances in positive reviews and vice versa. For example, the word \"love\", even though it shows up in both types of reviews, it can be seen that the word \"love\" appears almost twice as frequent in positive reviews than it does in negative reviews. Therefore, word context is still really important, but it turns out that words by themselves will prove useful when training the deep learning model to better understand the difference between positive and negative reviews."
   ]
  },
  {
   "cell_type": "markdown",
   "metadata": {
    "colab_type": "text",
    "id": "ootgnlZ6dq3H"
   },
   "source": [
    "To test the null hypothesis that there is no difference between the number of positive and negative reviews containing the word \"love\", and that the observed difference of 1,211 seen in the above bar chart is due to chance. In order to do this we will simulate a dataset where both positive and negative reviews have an equal chance of having the word in a given review. Given the current datasets the probabiilty of a given review containing the word \"love\" is 4,439 out of 50,000 reviews. At the end we will compute the probability of the difference between the number of reviews in the positive dataset and negative dataset containing the word \"love\" being 1,211 or greater."
   ]
  },
  {
   "cell_type": "code",
   "execution_count": 41,
   "metadata": {
    "colab": {},
    "colab_type": "code",
    "id": "yg8z3g9-dq3M"
   },
   "outputs": [],
   "source": [
    "\"\"\"Functions to draw a single permutation sample and one or more permutation replicates\"\"\"\n",
    "\n",
    "# draw one permutation sample function\n",
    "def draw_perm(data1, data2):\n",
    "    # create one array from both datasets\n",
    "    all_data = np.concatenate((data1, data2))\n",
    "    # shuffle data around to simulate equal probability\n",
    "    perm_data = np.random.permutation(all_data)\n",
    "    # return new data with same lengths as data inputted\n",
    "    return perm_data[:len(data1)], perm_data[len(data1):]\n",
    "\n",
    "# draw one or more permutation replicates (size parameter defines # of replicates)\n",
    "def draw_perm_reps(data1, data2, func, size=1):\n",
    "    # initialize output replicate array\n",
    "    perm_replicates = np.empty(size)\n",
    "    \n",
    "    # begin permutations and replicates for given size\n",
    "    for i in np.arange(size):\n",
    "        # use draw_perm to draw one permutation sample\n",
    "        perm_1, perm_2 = draw_perm(data1, data2)\n",
    "        # apply replicate function to create replicate of given permutation\n",
    "        perm_replicates[i] = func(perm_1, perm_2) \n",
    "        \n",
    "    # return permutation replicates\n",
    "    return perm_replicates"
   ]
  },
  {
   "cell_type": "code",
   "execution_count": 42,
   "metadata": {
    "colab": {},
    "colab_type": "code",
    "id": "eiQAQccPdq3R"
   },
   "outputs": [],
   "source": [
    "\"\"\"Function to be used for getting difference between positive and negative reviews of simulated word appearances\"\"\"\n",
    "\n",
    "def review_diff(data1, data2):\n",
    "    # get difference of [True] number between datasets\n",
    "    return np.sum(data1) - np.sum(data2)   "
   ]
  },
  {
   "cell_type": "code",
   "execution_count": 43,
   "metadata": {
    "colab": {},
    "colab_type": "code",
    "id": "e2YDY-u5dq3T"
   },
   "outputs": [],
   "source": [
    "\"\"\"Function to plot differences and print statistics\"\"\"\n",
    "\n",
    "def plot_diff(diff_data, obs_diff, sub_from, sub_by, word):\n",
    "    # plot histogram\n",
    "    _ = plt.hist(diff_data, bins=20)\n",
    "    _ = plt.xlabel('{} - {}'.format(sub_from, sub_by))\n",
    "    _ = plt.ylabel('Count of Difference Occurring')\n",
    "    _ = plt.title('\"{}\" Review Appearance Differences'.format(word))\n",
    "    plt.show()\n",
    "\n",
    "    # get statistics and print\n",
    "    # probability of replicate differences being greater than observed difference\n",
    "    p_word = np.sum(diff_data >= obs_diff) / len(diff_data)\n",
    "    # 99% percentile of differences lie between... \n",
    "    word_99 = np.percentile(diff_data, [0.5, 99.5])\n",
    "    print('Probability of Difference Greater than {}: {:06.3f}%'.format(obs_diff, p_word*100))\n",
    "    print('\\n99% of Differences are Between: {} and {}'.format(int(word_99[0]), int(word_99[1])))"
   ]
  },
  {
   "cell_type": "code",
   "execution_count": 44,
   "metadata": {
    "colab": {},
    "colab_type": "code",
    "id": "7tcAhn8udq3W"
   },
   "outputs": [],
   "source": [
    "# create arrays containing whether love is in a review [True] or not [False]\n",
    "pos_love = np.array([True] * 2825 + [False] * (25000 - 2825))\n",
    "neg_love = np.array([True] * 1614 + [False] * (25000 - 1614))\n",
    "\n",
    "# this is the observed difference between positive and negative reviews (1,211)\n",
    "obs_diff_love = review_diff(pos_love, neg_love)"
   ]
  },
  {
   "cell_type": "code",
   "execution_count": 45,
   "metadata": {
    "colab": {},
    "colab_type": "code",
    "id": "fM8Z1Gumdq3Z"
   },
   "outputs": [],
   "source": [
    "# array containing differences between positive and negative reviews of 100,000 simulations\n",
    "love_diff_replicates = draw_perm_reps(pos_love, neg_love, review_diff, size=100000)"
   ]
  },
  {
   "cell_type": "code",
   "execution_count": 46,
   "metadata": {
    "colab": {},
    "colab_type": "code",
    "id": "v4dQgEeHdq3d"
   },
   "outputs": [
    {
     "data": {
      "image/png": "[encoded data removed]",
      "text/plain": [
       "<Figure size 432x288 with 1 Axes>"
      ]
     },
     "metadata": {
      "needs_background": "light"
     },
     "output_type": "display_data"
    },
    {
     "name": "stdout",
     "output_type": "stream",
     "text": [
      "Probability of Difference Greater than 1211: 00.000%\n",
      "\n",
      "99% of Differences are Between: -163 and 165\n"
     ]
    }
   ],
   "source": [
    "plot_diff(love_diff_replicates, obs_diff_love, 'Positive', 'Negative', 'love')"
   ]
  },
  {
   "cell_type": "markdown",
   "metadata": {
    "colab_type": "text",
    "id": "4ofq26sSdq3j"
   },
   "source": [
    "After simulating 100,000 permutation samples where positive and negative reviews have equal opportunity of having the word \"love\" in any given review, we see that the probability of getting a difference of 1,211 reviews is 0%. This leads us to reject the hypothesis that the difference seen in the obtained dataset, where positive reviews had 1,211 more reviews than negative reviews containing the word love, is not due to chance since a difference that big does not happen even once in a 100,000 simulated dataset. Moreover, 99% of all differences are between -163 and 165, where negative reviews had the word \"love\" 163 more times than positive reviews and vice versa."
   ]
  },
  {
   "cell_type": "markdown",
   "metadata": {
    "colab_type": "text",
    "id": "vx5qR780dq3l"
   },
   "source": [
    "The word \"hate\", on the other hand, does not have as big of a difference of review appearances as the word \"love\". In order to check if \"hate\" is really being used more in negative reviews than in positive reviews, we will do a new simulation like the one we did for the word \"love\". The only difference here is that the number of reviews with the word \"hate\" is now 696 out of 50,000 reviews as opposed to 4,439 reviews with the word \"love\" in them. The observed difference from our dataset is a mere 94 reviews, where negative reviews had \"hate\" in them 395 times and positive reviews 301 times."
   ]
  },
  {
   "cell_type": "code",
   "execution_count": 47,
   "metadata": {
    "colab": {},
    "colab_type": "code",
    "id": "tuZylq2gdq3m"
   },
   "outputs": [],
   "source": [
    "pos_hate = np.array([True] * 301 + [False] * (25000 - 301))\n",
    "neg_hate = np.array([True] * 395 + [False] * (25000 - 395))\n",
    "\n",
    "obs_diff_hate = review_diff(neg_hate, pos_hate)"
   ]
  },
  {
   "cell_type": "code",
   "execution_count": 48,
   "metadata": {
    "colab": {},
    "colab_type": "code",
    "id": "QkkKGW4fdq3v"
   },
   "outputs": [],
   "source": [
    "hate_diff_replicates = draw_perm_reps(neg_hate, pos_hate, review_diff, size=100000)"
   ]
  },
  {
   "cell_type": "code",
   "execution_count": 49,
   "metadata": {
    "colab": {},
    "colab_type": "code",
    "id": "7waJw-TWdq3z"
   },
   "outputs": [
    {
     "data": {
      "image/png": "[encoded data removed]",
      "text/plain": [
       "<Figure size 432x288 with 1 Axes>"
      ]
     },
     "metadata": {
      "needs_background": "light"
     },
     "output_type": "display_data"
    },
    {
     "name": "stdout",
     "output_type": "stream",
     "text": [
      "Probability of Difference Greater than 94: 00.028%\n",
      "\n",
      "99% of Differences are Between: -68 and 66\n"
     ]
    }
   ],
   "source": [
    "plot_diff(hate_diff_replicates, obs_diff_hate, 'Negative', 'Positive', 'hate')"
   ]
  },
  {
   "cell_type": "markdown",
   "metadata": {
    "colab_type": "text",
    "id": "S5w7a_6Hdq32"
   },
   "source": [
    "After simulating the data 100,000 times, there were only 23 times where the negative reviews had at least 94 reviews more than the positive reviews with the word hate, this leads us to a probability of 0.023%. Therefore, with more than 99.9% confidence, that the difference of 94 reviews seen between the negative and positive reviews is not due to chance."
   ]
  },
  {
   "cell_type": "markdown",
   "metadata": {
    "colab_type": "text",
    "id": "6RD5dbcwdq33"
   },
   "source": [
    "After noting that the difference between polar words \"love\" and \"hate\" seen between positive and negative reviews is not just due to chance, we can further confirm that a neural network will be able to use word counts, review counts and words alone to learn whether a review has a higher probability of being positive or negative. "
   ]
  },
  {
   "cell_type": "markdown",
   "metadata": {
    "colab_type": "text",
    "id": "5J-iIFlAe968"
   },
   "source": [
    "# 4. BERT - Sentiment Prediction"
   ]
  },
  {
   "cell_type": "code",
   "execution_count": 50,
   "metadata": {},
   "outputs": [],
   "source": [
    "# silence system warnings\n",
    "import logging\n",
    "import warnings\n",
    "warnings.filterwarnings('ignore')\n",
    "\n",
    "# create filtering function\n",
    "def filter_record(record):\n",
    "    return int(record.levelname == 'INFO')\n",
    "\n",
    "# silence tensorflow warnings\n",
    "logging.getLogger('tensorflow').addFilter(filter_record)"
   ]
  },
  {
   "cell_type": "code",
   "execution_count": 51,
   "metadata": {
    "colab": {},
    "colab_type": "code",
    "id": "L-5MSNZadq5D"
   },
   "outputs": [],
   "source": [
    "# import BERT & tensorflow\n",
    "import tensorflow as tf\n",
    "import tensorflow.contrib.tpu as tf_tpu\n",
    "import tensorflow.estimator as tf_est\n",
    "from bert import run_classifier as rc\n",
    "\n",
    "tf.compat.v1.enable_eager_execution()"
   ]
  },
  {
   "cell_type": "markdown",
   "metadata": {},
   "source": [
    "***\n",
    "## *4.1. Define Independent Variables & Other*\n",
    "### *4.1.1. Set Notebook's Variables*"
   ]
  },
  {
   "cell_type": "code",
   "execution_count": 52,
   "metadata": {
    "colab": {},
    "colab_type": "code",
    "id": "qvr2cPkbdq5T"
   },
   "outputs": [],
   "source": [
    "use_tpu = True\n",
    "tpu_cores = 8\n",
    "max_len = 512\n",
    "\n",
    "training = True\n",
    "evaluating = True\n",
    "predicting = True\n",
    "learn_rate = 2e-5\n",
    "epochs = 3.0\n",
    "batch = 32\n",
    "\n",
    "\n",
    "\n",
    "classes = ['0', '1']\n",
    "ep_batch = 8\n",
    "warmup = 0.1\n",
    "len_feat = 25000\n",
    "save_ckpt = 1000\n",
    "iter_loop = 1000\n",
    "lower_case = True\n",
    "train_steps = None\n",
    "warmup_steps = None\n",
    "if training:\n",
    "    train_steps = int(len_feat / batch * epochs)\n",
    "    warmup_steps = int(train_steps * warmup)\n",
    "bucket_dir = 'gs://<your-bucket-directory>/'\n",
    "input_dir = bucket_dir+'input/'\n",
    "output_dir = bucket_dir+'output/model/'\n",
    "out_ckpt = output_dir+'ckpt/'\n",
    "bert_dir = bucket_dir+'output/bert-uncased/'\n",
    "train_file = input_dir+'train.tf_record'\n",
    "eval_file = input_dir+'eval.tf_record'\n",
    "test_file = input_dir+'test.tf_record'\n",
    "eval_out = output_dir+'eval_results.txt'\n",
    "test_out = output_dir+'test_results.tsv'\n",
    "vocab_dir = bert_dir+'vocab.txt'\n",
    "ckpt_dir = bert_dir+'bert_model.ckpt'\n",
    "bert_config_dir = bert_dir+'bert_config.json'"
   ]
  },
  {
   "cell_type": "markdown",
   "metadata": {},
   "source": [
    "### *4.1.2. Set Source-Code Flag Variables*"
   ]
  },
  {
   "cell_type": "code",
   "execution_count": 53,
   "metadata": {
    "colab": {},
    "colab_type": "code",
    "id": "34yHhOF1dq5N"
   },
   "outputs": [],
   "source": [
    "# delete default flags\n",
    "del_attr = np.array(['f', 'data_dir', 'bert_config_file', 'do_eval', 'do_lower_case', 'do_predict', 'do_train', 'eval_batch_size', 'init_checkpoint', \n",
    "                     'iterations_per_loop', 'learning_rate', 'max_seq_length', 'num_tpu_cores', 'num_train_epochs', 'output_dir', 'predict_batch_size', \n",
    "                     'save_checkpoints_steps', 'tpu_name', 'train_batch_size', 'use_tpu', 'vocab_file', 'warmup_proportion', 'task_name'])\n",
    "for attr in del_attr:\n",
    "    try:\n",
    "        tf.flags.FLAGS.__delattr__(attr)\n",
    "    except:\n",
    "        pass"
   ]
  },
  {
   "cell_type": "code",
   "execution_count": 54,
   "metadata": {
    "colab": {
     "base_uri": "https://localhost:8080/",
     "height": 51
    },
    "colab_type": "code",
    "id": "Dy2Wz4gedq5P",
    "outputId": "5870c07c-c353-4b8e-a16e-ad2c2f5589ef"
   },
   "outputs": [],
   "source": [
    "# define necessary flags\n",
    "tf.flags.DEFINE_string('f', '', 'kernel')\n",
    "\n",
    "rc.flags.DEFINE_string(\"data_dir\", input_dir, \"The input data dir. Should contain the .tsv files (or other data files) \" \"for the task.\")\n",
    "rc.flags.DEFINE_string(\"vocab_file\", vocab_dir, \"The vocabulary file that the BERT model was trained on.\")\n",
    "rc.flags.DEFINE_string(\"output_dir\", out_ckpt, \"The output directory where the model checkpoints will be written.\")\n",
    "rc.flags.DEFINE_string(\"init_checkpoint\", ckpt_dir, \"Initial checkpoint (usually from a pre-trained BERT model).\")\n",
    "rc.flags.DEFINE_string(\"bert_config_file\", bert_config_dir, \"The config json file corresponding to the pre-trained BERT model. \"\n",
    "                       \"This specifies the model architecture.\")\n",
    "\n",
    "rc.flags.DEFINE_string(\"task_name\", 'mrpc', \"The name of the task to train.\")\n",
    "rc.flags.DEFINE_bool(\"do_lower_case\", lower_case, \"Whether to lower case the input text. Should be True for uncased \" \"models and False for cased models.\")\n",
    "rc.flags.DEFINE_integer(\"max_seq_length\", max_len, \"The maximum total input sequence length after WordPiece tokenization. \"\n",
    "                        \"Sequences longer than this will be truncated, and sequences shorter \" \"than this will be padded.\")\n",
    "\n",
    "rc.flags.DEFINE_bool(\"do_train\", training, \"Whether to run training.\")\n",
    "rc.flags.DEFINE_bool(\"do_eval\", evaluating, \"Whether to run eval on the dev set.\")\n",
    "rc.flags.DEFINE_bool(\"do_predict\", predicting, \"Whether to run the model in inference mode on the test set.\")\n",
    "\n",
    "rc.flags.DEFINE_float(\"learning_rate\", learn_rate, \"The initial learning rate for Adam.\")\n",
    "rc.flags.DEFINE_float(\"num_train_epochs\", epochs, \"Total number of training epochs to perform.\")\n",
    "rc.flags.DEFINE_float(\"warmup_proportion\", warmup, \"Proportion of training to perform linear learning rate warmup for. \" \"E.g., 0.1 = 10% of training.\")\n",
    "rc.flags.DEFINE_integer(\"train_batch_size\", batch, \"Total batch size for training.\")\n",
    "rc.flags.DEFINE_integer(\"eval_batch_size\", ep_batch, \"Total batch size for eval.\")\n",
    "rc.flags.DEFINE_integer(\"predict_batch_size\", ep_batch, \"Total batch size for predict.\")\n",
    "rc.flags.DEFINE_integer(\"save_checkpoints_steps\", save_ckpt, \"How often to save the model checkpoint.\")\n",
    "rc.flags.DEFINE_integer(\"iterations_per_loop\", iter_loop, \"How many steps to make in each estimator call.\")\n",
    "\n",
    "rc.flags.DEFINE_bool(\"use_tpu\", use_tpu, \"Whether to use TPU or GPU/CPU.\")\n",
    "rc.flags.DEFINE_integer(\"num_tpu_cores\", tpu_cores, \"Only used if `use_tpu` is True. Total number of TPU cores to use.\")\n",
    "rc.tf.flags.DEFINE_string(\"tpu_name\", 'bert-tpu', \"The Cloud TPU to use for training. This should be either the name \"\n",
    "                          \"used when creating the Cloud TPU, or a grpc://ip.address.of.tpu:8470 \" \"url.\")"
   ]
  },
  {
   "cell_type": "markdown",
   "metadata": {},
   "source": [
    "***\n",
    "## *4.2. Create Training Examples & Features*"
   ]
  },
  {
   "cell_type": "markdown",
   "metadata": {},
   "source": [
    "### *4.2.1. Input Examples*"
   ]
  },
  {
   "cell_type": "code",
   "execution_count": null,
   "metadata": {
    "colab": {},
    "colab_type": "code",
    "id": "T43yUbDGdq5M"
   },
   "outputs": [],
   "source": [
    "def examples(out_list, x_data, y_data, mode):\n",
    "    \"\"\" Function to create InputExamples \"\"\"\n",
    "    for i, e in enumerate(x_data):\n",
    "        if mode == 'test':\n",
    "            out_list.append(rc.InputExample(None, str(e), None, '0'))\n",
    "        else:\n",
    "            out_list.append(rc.InputExample(None, str(e), None, str(y_data[i])))\n",
    "    return\n",
    "   \n",
    "\n",
    "# create input examples\n",
    "train_ie = []\n",
    "eval_ie = []\n",
    "test_ie = []\n",
    "examples(train_ie, train, train_label, 'train')\n",
    "examples(eval_ie, train, train_label, 'eval')\n",
    "examples(test_ie, test, test_label, 'test')"
   ]
  },
  {
   "cell_type": "markdown",
   "metadata": {},
   "source": [
    "### *4.2.2. Shuffle Training Examples*\n",
    "#### *CRITICAL*\n",
    "Shuffling training dataset is critical, because an unshuffled training dataset will train the classifier to incorrectly classify 50% of all reviews; if all the negative reviews are fed to the classifier first, the classifier will adjust its weights to predict all following reviews as negative as well."
   ]
  },
  {
   "cell_type": "code",
   "execution_count": null,
   "metadata": {},
   "outputs": [],
   "source": [
    "# shuffle training input examples\n",
    "np.random.shuffle(train_ie)"
   ]
  },
  {
   "cell_type": "markdown",
   "metadata": {},
   "source": [
    "### *4.2.3. Import Tokenizer & Create Training Features*"
   ]
  },
  {
   "cell_type": "code",
   "execution_count": null,
   "metadata": {
    "colab": {
     "base_uri": "https://localhost:8080/",
     "height": 1000
    },
    "colab_type": "code",
    "id": "m6o5mx90dq5R",
    "outputId": "9454c458-b9f7-4927-d52f-87cdc04b760c",
    "scrolled": true
   },
   "outputs": [],
   "source": [
    "from bert import tokenization as tk\n",
    "from bert import modeling as b_m\n",
    "\n",
    "# configure tokenizer and initiate\n",
    "bert_config = b_m.BertConfig.from_json_file(bert_config_dir)\n",
    "bert_tok = tk.FullTokenizer(vocab_dir, do_lower_case=lower_case)"
   ]
  },
  {
   "cell_type": "code",
   "execution_count": null,
   "metadata": {},
   "outputs": [],
   "source": [
    "# create features and upload to file\n",
    "rc.file_based_convert_examples_to_features(train_ie, \n",
    "                                           classes, \n",
    "                                           max_len, \n",
    "                                           bert_tok,\n",
    "                                           train_file)"
   ]
  },
  {
   "cell_type": "markdown",
   "metadata": {},
   "source": [
    "***\n",
    "## *4.3. Build Modeling Mechanisms*\n",
    "### *4.3.1. Configure Tensorflow Processing Unit*"
   ]
  },
  {
   "cell_type": "code",
   "execution_count": null,
   "metadata": {
    "colab": {},
    "colab_type": "code",
    "id": "_J5mRZFGdq5U"
   },
   "outputs": [],
   "source": [
    "# create tpu cluster\n",
    "tpu_cluster = tf.contrib.cluster_resolver.TPUClusterResolver(tpu='bert-tpu')\n",
    "\n",
    "\n",
    "# configure tpu\n",
    "is_per_host = tf_tpu.InputPipelineConfig.PER_HOST_V2\n",
    "tpu_config = tf_tpu.TPUConfig(iterations_per_loop=iter_loop,\n",
    "                              num_shards=tpu_cores,\n",
    "                              per_host_input_for_training=is_per_host)\n",
    "\n",
    "# create tpu run configuarion\n",
    "run_config = tf_tpu.RunConfig(cluster=tpu_cluster,\n",
    "                              model_dir=output_dir,\n",
    "                              save_checkpoints_steps=save_ckpt,\n",
    "                              tpu_config=tpu_config)"
   ]
  },
  {
   "cell_type": "markdown",
   "metadata": {},
   "source": [
    "### *4.3.2. Configure & Build Model*"
   ]
  },
  {
   "cell_type": "code",
   "execution_count": null,
   "metadata": {
    "colab": {},
    "colab_type": "code",
    "id": "TB4DBzQLdq5Y",
    "outputId": "88f598fb-ca6a-427f-bfb9-3e93ad40e1aa"
   },
   "outputs": [],
   "source": [
    "model_fn = rc.model_fn_builder(bert_config=bert_config,\n",
    "                                  num_labels=len(classes),\n",
    "                                  init_checkpoint=ckpt_dir,\n",
    "                                  learning_rate=learn_rate, \n",
    "                                  num_train_steps=train_steps,\n",
    "                                  num_warmup_steps=warmup_steps,\n",
    "                                  use_tpu=use_tpu,\n",
    "                                  use_one_hot_embeddings=use_tpu)\n",
    "\n",
    "optimizer = tf.train.AdamOptimizer(learning_rate=learn_rate)\n",
    "optimizer = tf_tpu.CrossShardOptimizer(optimizer)\n",
    "\n",
    "# Example usage for TensorFlow:\n",
    "logging.getLogger('tensorflow').addFilter(filter_record)\n",
    "estimator = tf_tpu.TPUEstimator(model_fn=model_fn,\n",
    "                                config=run_config,\n",
    "                                train_batch_size=batch,\n",
    "                                eval_batch_size=ep_batch,\n",
    "                                predict_batch_size=ep_batch,\n",
    "                                use_tpu=use_tpu,\n",
    "                                params={'optimizer':optimizer})"
   ]
  },
  {
   "cell_type": "markdown",
   "metadata": {},
   "source": [
    "## *4.4. Train & Evaluate Model*\n",
    "### *4.4.1. Train Model*"
   ]
  },
  {
   "cell_type": "code",
   "execution_count": null,
   "metadata": {
    "colab": {},
    "colab_type": "code",
    "id": "yfC61HSKdq5a"
   },
   "outputs": [],
   "source": [
    "# Create an input function for training. drop_remainder = True for using TPUs.\n",
    "train_input_fn = rc.file_based_input_fn_builder(input_file=train_file,\n",
    "                                                seq_length=max_len,\n",
    "                                                is_training=training,\n",
    "                                                drop_remainder=use_tpu)\n",
    "\n",
    "# begin training\n",
    "estimator.train(input_fn=train_input_fn, max_steps=train_steps)"
   ]
  },
  {
   "cell_type": "markdown",
   "metadata": {},
   "source": [
    "### *4.4.2. Evaluate Model*"
   ]
  },
  {
   "cell_type": "code",
   "execution_count": null,
   "metadata": {},
   "outputs": [],
   "source": [
    "# TPUs require all batch sizes to be the same & \n",
    "# can be achieved by adding \"fake\" input examples\n",
    "\n",
    "if use_tpu:\n",
    "    while len(eval_ie) % ep_batch != 0:\n",
    "        eval_ie.append(rc.PaddingInputExample())\n",
    "\n",
    "assert len(eval_ie) % ep_batch == 0\n",
    "eval_steps = int(len(eval_ie) // ep_batch)\n",
    "\n",
    "\n",
    "# convert evaluation examples into features\n",
    "rc.file_based_convert_examples_to_features(eval_ie, classes, max_len, bert_tok, eval_file)"
   ]
  },
  {
   "cell_type": "code",
   "execution_count": null,
   "metadata": {},
   "outputs": [],
   "source": [
    "# Create an input function for evaluation. drop_remainder = True for using TPUs.\n",
    "eval_input_fn = rc.file_based_input_fn_builder(input_file=eval_file,\n",
    "                                                seq_length=max_len,\n",
    "                                                is_training=False,\n",
    "                                                drop_remainder=use_tpu)\n",
    "\n",
    "# evaluate model\n",
    "result = estimator.evaluate(input_fn=eval_input_fn, steps=eval_steps)"
   ]
  },
  {
   "cell_type": "code",
   "execution_count": null,
   "metadata": {},
   "outputs": [],
   "source": [
    "# export evaluation results to desired directory \n",
    "\n",
    "with tf.gfile.GFile(eval_out, \"w\") as writer:\n",
    "    tf.logging.info(\"***** Eval results *****\")\n",
    "    for key in sorted(result.keys()):\n",
    "        tf.logging.info(\"  %s = %s\", key, str(result[key]))\n",
    "        writer.write(\"%s = %s\\n\" % (key, str(result[key])))"
   ]
  },
  {
   "cell_type": "markdown",
   "metadata": {},
   "source": [
    "## *4.5. Model Performance*\n",
    "### *4.5.1. Predictions*"
   ]
  },
  {
   "cell_type": "code",
   "execution_count": null,
   "metadata": {},
   "outputs": [],
   "source": [
    "# TPUs require all batch sizes to be the same & \n",
    "# can be achieved by adding \"fake\" input examples\n",
    "\n",
    "if use_tpu:\n",
    "    while len(test_ie) % ep_batch != 0:\n",
    "        test_ie.append(rc.PaddingInputExample())\n",
    "        \n",
    "\n",
    "# convert testing examples into features        \n",
    "rc.file_based_convert_examples_to_features(test_ie, classes, max_len, bert_tok, test_file)"
   ]
  },
  {
   "cell_type": "code",
   "execution_count": null,
   "metadata": {},
   "outputs": [],
   "source": [
    "# Create an input function for testing. drop_remainder = True for using TPUs.\n",
    "test_input_fn = rc.file_based_input_fn_builder(input_file=test_file,\n",
    "                                                seq_length=max_len,\n",
    "                                                is_training=False,\n",
    "                                                drop_remainder=use_tpu)\n",
    "\n",
    "# make model predictions\n",
    "predictions = estimator.predict(input_fn=test_input_fn)"
   ]
  },
  {
   "cell_type": "code",
   "execution_count": null,
   "metadata": {
    "jupyter": {
     "outputs_hidden": true
    }
   },
   "outputs": [],
   "source": [
    "# save model predictions to desired output directory\n",
    "with tf.gfile.GFile(test_out, \"w\") as writer:\n",
    "    num_written_lines = 0\n",
    "    tf.logging.info(\"***** Predict results *****\")\n",
    "    for (i, prediction) in enumerate(predictions):\n",
    "        probabilities = prediction[\"probabilities\"]\n",
    "        if i >= len_feat:\n",
    "            break\n",
    "        output_line = \"\\t\".join(str(class_probability) for class_probability in probabilities) + \"\\n\"\n",
    "        writer.write(output_line)\n",
    "        num_written_lines += 1\n",
    "assert num_written_lines == len_feat"
   ]
  },
  {
   "cell_type": "markdown",
   "metadata": {},
   "source": [
    "### *4.5.2. Test Accuracy*"
   ]
  },
  {
   "cell_type": "code",
   "execution_count": 59,
   "metadata": {},
   "outputs": [
    {
     "name": "stdout",
     "output_type": "stream",
     "text": [
      "Prediction Accuracy: 94.93%\n"
     ]
    }
   ],
   "source": [
    "# calculate test accuracy\n",
    "predictions = np.round(pd.read_csv('data/bert/output/results/test_results.tsv', sep='\\t', header=None)[1], 0)\n",
    "accuracy = np.sum(predictions == test_label) / len(test_label)\n",
    "\n",
    "# print test accuracy\n",
    "print('Prediction Accuracy: {:.2f}%'.format(accuracy * 100))"
   ]
  }
 ],
 "metadata": {
  "accelerator": "TPU",
  "colab": {
   "name": "IMDB_NLP.ipynb",
   "provenance": [],
   "version": "0.3.2"
  },
  "kernelspec": {
   "display_name": "Python 3",
   "language": "python",
   "name": "python3"
  },
  "language_info": {
   "codemirror_mode": {
    "name": "ipython",
    "version": 3
   },
   "file_extension": ".py",
   "mimetype": "text/x-python",
   "name": "python",
   "nbconvert_exporter": "python",
   "pygments_lexer": "ipython3",
   "version": "3.7.3"
  }
 },
 "nbformat": 4,
 "nbformat_minor": 4
}
